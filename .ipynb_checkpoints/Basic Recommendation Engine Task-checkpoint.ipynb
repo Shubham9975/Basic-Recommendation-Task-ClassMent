{
 "cells": [
  {
   "cell_type": "code",
   "execution_count": 53,
   "id": "b27614a7-88f6-4405-ae75-b1f9fdcdb310",
   "metadata": {},
   "outputs": [],
   "source": [
    "#importing needed libraries\n",
    "import pandas as pd\n",
    "from sklearn.metrics import jaccard_score\n",
    "from sklearn.preprocessing import MultiLabelBinarizer"
   ]
  },
  {
   "cell_type": "code",
   "execution_count": 54,
   "id": "e651f9b8-f247-4a72-9139-f0f761f6eb3b",
   "metadata": {},
   "outputs": [],
   "source": [
    "#sample datar\n",
    "data = pd.DataFrame({\n",
    "    \"Role\": [\"Data Scientist\", \"ML Engineer\", \"Data Analyst\", \"Data Engineer\", \"AI Researcher\", \"Business Analyst\", \"NLP Engineer\"],\n",
    "    \"Skills\": [\n",
    "        \"Python, Statistics, Machine Learning, Data Visualization\",\n",
    "        \"Python, Machine Learning, Deployment, Algorithms\",\n",
    "        \"SQL, Python, Data Visualization, Excel\",\n",
    "        \"Python, SQL, ETL, Cloud Computing\",\n",
    "        \"Python, Deep Learning, Machine Learning, Algorithms\",\n",
    "        \"Excel, SQL, Data Visualization, Business Intelligence\",\n",
    "        \"Python, NLP, Machine Learning, Deep Learning\"\n",
    "    ]\n",
    "})"
   ]
  },
  {
   "cell_type": "code",
   "execution_count": 55,
   "id": "64d02ebc-6b75-48c7-82e4-666fc6260015",
   "metadata": {},
   "outputs": [
    {
     "data": {
      "text/html": [
       "<div>\n",
       "<style scoped>\n",
       "    .dataframe tbody tr th:only-of-type {\n",
       "        vertical-align: middle;\n",
       "    }\n",
       "\n",
       "    .dataframe tbody tr th {\n",
       "        vertical-align: top;\n",
       "    }\n",
       "\n",
       "    .dataframe thead th {\n",
       "        text-align: right;\n",
       "    }\n",
       "</style>\n",
       "<table border=\"1\" class=\"dataframe\">\n",
       "  <thead>\n",
       "    <tr style=\"text-align: right;\">\n",
       "      <th></th>\n",
       "      <th>Role</th>\n",
       "      <th>Skills</th>\n",
       "    </tr>\n",
       "  </thead>\n",
       "  <tbody>\n",
       "    <tr>\n",
       "      <th>0</th>\n",
       "      <td>Data Scientist</td>\n",
       "      <td>Python, Statistics, Machine Learning, Data Vis...</td>\n",
       "    </tr>\n",
       "    <tr>\n",
       "      <th>1</th>\n",
       "      <td>ML Engineer</td>\n",
       "      <td>Python, Machine Learning, Deployment, Algorithms</td>\n",
       "    </tr>\n",
       "    <tr>\n",
       "      <th>2</th>\n",
       "      <td>Data Analyst</td>\n",
       "      <td>SQL, Python, Data Visualization, Excel</td>\n",
       "    </tr>\n",
       "    <tr>\n",
       "      <th>3</th>\n",
       "      <td>Data Engineer</td>\n",
       "      <td>Python, SQL, ETL, Cloud Computing</td>\n",
       "    </tr>\n",
       "    <tr>\n",
       "      <th>4</th>\n",
       "      <td>AI Researcher</td>\n",
       "      <td>Python, Deep Learning, Machine Learning, Algor...</td>\n",
       "    </tr>\n",
       "    <tr>\n",
       "      <th>5</th>\n",
       "      <td>Business Analyst</td>\n",
       "      <td>Excel, SQL, Data Visualization, Business Intel...</td>\n",
       "    </tr>\n",
       "    <tr>\n",
       "      <th>6</th>\n",
       "      <td>NLP Engineer</td>\n",
       "      <td>Python, NLP, Machine Learning, Deep Learning</td>\n",
       "    </tr>\n",
       "  </tbody>\n",
       "</table>\n",
       "</div>"
      ],
      "text/plain": [
       "               Role                                             Skills\n",
       "0    Data Scientist  Python, Statistics, Machine Learning, Data Vis...\n",
       "1       ML Engineer   Python, Machine Learning, Deployment, Algorithms\n",
       "2      Data Analyst             SQL, Python, Data Visualization, Excel\n",
       "3     Data Engineer                  Python, SQL, ETL, Cloud Computing\n",
       "4     AI Researcher  Python, Deep Learning, Machine Learning, Algor...\n",
       "5  Business Analyst  Excel, SQL, Data Visualization, Business Intel...\n",
       "6      NLP Engineer       Python, NLP, Machine Learning, Deep Learning"
      ]
     },
     "execution_count": 55,
     "metadata": {},
     "output_type": "execute_result"
    }
   ],
   "source": [
    "data"
   ]
  },
  {
   "cell_type": "code",
   "execution_count": 56,
   "id": "c749d29e-9685-462b-a6ee-85132b44f44d",
   "metadata": {},
   "outputs": [],
   "source": [
    "#converting to dictionary for faster lookup\n",
    "skills_data = {row['Role']: set(row['Skills'].split(', ')) for _, row in data.iterrows()}"
   ]
  },
  {
   "cell_type": "code",
   "execution_count": 57,
   "id": "8d176bb3-3b7d-4130-ba4c-fc89dd9a9560",
   "metadata": {},
   "outputs": [
    {
     "data": {
      "text/plain": [
       "{'Data Scientist': {'Data Visualization',\n",
       "  'Machine Learning',\n",
       "  'Python',\n",
       "  'Statistics'},\n",
       " 'ML Engineer': {'Algorithms', 'Deployment', 'Machine Learning', 'Python'},\n",
       " 'Data Analyst': {'Data Visualization', 'Excel', 'Python', 'SQL'},\n",
       " 'Data Engineer': {'Cloud Computing', 'ETL', 'Python', 'SQL'},\n",
       " 'AI Researcher': {'Algorithms',\n",
       "  'Deep Learning',\n",
       "  'Machine Learning',\n",
       "  'Python'},\n",
       " 'Business Analyst': {'Business Intelligence',\n",
       "  'Data Visualization',\n",
       "  'Excel',\n",
       "  'SQL'},\n",
       " 'NLP Engineer': {'Deep Learning', 'Machine Learning', 'NLP', 'Python'}}"
      ]
     },
     "execution_count": 57,
     "metadata": {},
     "output_type": "execute_result"
    }
   ],
   "source": [
    "skills_data"
   ]
  },
  {
   "cell_type": "markdown",
   "id": "2323a768-1c28-41f6-acad-ae9dbcdd560c",
   "metadata": {},
   "source": [
    "<h2>Input your role after below step</h2>"
   ]
  },
  {
   "cell_type": "code",
   "execution_count": 58,
   "id": "6449f97a-dccc-40e2-9e3c-d09348fa8c43",
   "metadata": {},
   "outputs": [
    {
     "name": "stdin",
     "output_type": "stream",
     "text": [
      "Enter Rour Role:  Data Scientist\n"
     ]
    }
   ],
   "source": [
    "#taking input role\n",
    "input_role = input(\"Enter Rour Role: \")\n",
    "\n",
    "#converting input to camel case\n",
    "def to_camel_case(text):\n",
    "    return ' '.join(word.capitalize() for word in text.split())\n",
    "input_role = to_camel_case(input_role)"
   ]
  },
  {
   "cell_type": "code",
   "execution_count": 59,
   "id": "79e4a1d8-5c54-4b77-a20a-fe7670ee4ce9",
   "metadata": {},
   "outputs": [
    {
     "name": "stdout",
     "output_type": "stream",
     "text": [
      "Recommended roles for Data Scientist: ['ML Engineer', 'Data Analyst', 'AI Researcher']\n"
     ]
    }
   ],
   "source": [
    "if input_role not in skills_data:\n",
    "    print(f\"Role '{input_role}' not found. Please enter a valid role from the dataset.\")\n",
    "else:\n",
    "    all_roles = list(skills_data.keys())\n",
    "\n",
    "    #Extracting unique skill\n",
    "    all_skills = set()\n",
    "    for skills in skills_data.values():\n",
    "        all_skills.update(skills)\n",
    "    all_skills = list(all_skills)\n",
    "\n",
    "    #converting skill data into binary vectors\n",
    "    mlb = MultiLabelBinarizer(classes=all_skills)\n",
    "    encoded_skills = mlb.fit_transform(skills_data.values())\n",
    "\n",
    "    #extracting input_role index and binary vector\n",
    "    input_index = all_roles.index(input_role)\n",
    "    input_vector = encoded_skills[input_index]\n",
    "\n",
    "    #computing jaccard similarity for the input role to each role in data\n",
    "    similarities = [\n",
    "        (role, jaccard_score(input_vector, encoded_skills[i])) for i, role in enumerate(all_roles) if role != input_role\n",
    "    ]\n",
    "\n",
    "    #sorting similarities by jaccard_score\n",
    "    ranked_roles = sorted(similarities, key=lambda x: x[1], reverse=True)\n",
    "\n",
    "    #extracting top 3 roles by jaccard_score\n",
    "    top_roles = [role for role, _ in ranked_roles[:3]]\n",
    "    \n",
    "    print(f\"Recommended roles for {input_role}: {top_roles}\")"
   ]
  },
  {
   "cell_type": "code",
   "execution_count": null,
   "id": "00aa7018-7034-4fde-a83f-10f51e496082",
   "metadata": {},
   "outputs": [],
   "source": []
  }
 ],
 "metadata": {
  "kernelspec": {
   "display_name": "Python 3 (ipykernel)",
   "language": "python",
   "name": "python3"
  },
  "language_info": {
   "codemirror_mode": {
    "name": "ipython",
    "version": 3
   },
   "file_extension": ".py",
   "mimetype": "text/x-python",
   "name": "python",
   "nbconvert_exporter": "python",
   "pygments_lexer": "ipython3",
   "version": "3.12.3"
  }
 },
 "nbformat": 4,
 "nbformat_minor": 5
}
